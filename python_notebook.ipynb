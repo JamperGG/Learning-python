{
 "cells": [
  {
   "cell_type": "markdown",
   "metadata": {},
   "source": [
    "## урок 1\n",
    "\n",
    ">вивчення перших примітивних кодів для пайтон"
   ]
  },
  {
   "cell_type": "code",
   "execution_count": 14,
   "metadata": {},
   "outputs": [
    {
     "name": "stdout",
     "output_type": "stream",
     "text": [
      "Yura\n",
      "Stosyk\n",
      "18 age\n"
     ]
    }
   ],
   "source": [
    "Name = \"Yura\"\n",
    "Surname = \"Stosyk\"\n",
    "Age = 18\n",
    "\n",
    "print (Name)\n",
    "print (Surname)\n",
    "print (Age,\"age\")"
   ]
  }
 ],
 "metadata": {
  "kernelspec": {
   "display_name": "Python 3",
   "language": "python",
   "name": "python3"
  },
  "language_info": {
   "codemirror_mode": {
    "name": "ipython",
    "version": 3
   },
   "file_extension": ".py",
   "mimetype": "text/x-python",
   "name": "python",
   "nbconvert_exporter": "python",
   "pygments_lexer": "ipython3",
   "version": "3.12.6"
  }
 },
 "nbformat": 4,
 "nbformat_minor": 2
}
